{
  "nbformat": 4,
  "nbformat_minor": 0,
  "metadata": {
    "colab": {
      "provenance": [],
      "authorship_tag": "ABX9TyNIvbUPBMUCfLGgj18BTO+j",
      "include_colab_link": true
    },
    "kernelspec": {
      "name": "python3",
      "display_name": "Python 3"
    },
    "language_info": {
      "name": "python"
    }
  },
  "cells": [
    {
      "cell_type": "markdown",
      "metadata": {
        "id": "view-in-github",
        "colab_type": "text"
      },
      "source": [
        "<a href=\"https://colab.research.google.com/github/abbymorrissey/BTE320-Projects/blob/main/Bus_Tech.ipynb\" target=\"_parent\"><img src=\"https://colab.research.google.com/assets/colab-badge.svg\" alt=\"Open In Colab\"/></a>"
      ]
    },
    {
      "cell_type": "code",
      "execution_count": 2,
      "metadata": {
        "colab": {
          "base_uri": "https://localhost:8080/"
        },
        "id": "mmgCUPafyAQB",
        "outputId": "f9a17ddf-d979-4c20-bd19-4d9280e2ece8"
      },
      "outputs": [
        {
          "output_type": "stream",
          "name": "stdout",
          "text": [
            "Collecting ColabTurtlePlus\n",
            "  Downloading ColabTurtlePlus-2.0.1-py3-none-any.whl (31 kB)\n",
            "Installing collected packages: ColabTurtlePlus\n",
            "Successfully installed ColabTurtlePlus-2.0.1\n"
          ]
        }
      ],
      "source": [
        "!pip install ColabTurtlePlus"
      ]
    },
    {
      "cell_type": "code",
      "source": [
        "from ColabTurtlePlus.Turtle import *\n",
        "\n",
        "clearscreen()\n",
        "\n",
        "color('black','green')\n",
        "begin_fill()\n",
        "\n",
        "for i in range(4):\n",
        "  forward(100)\n",
        "  left(90)\n",
        "\n",
        "\n",
        "end_fill()"
      ],
      "metadata": {
        "colab": {
          "base_uri": "https://localhost:8080/",
          "height": 621
        },
        "id": "EdlflvgQyPnd",
        "outputId": "f9126977-33a4-4d69-c26d-062511126922"
      },
      "execution_count": null,
      "outputs": [
        {
          "output_type": "display_data",
          "data": {
            "text/plain": [
              "<IPython.core.display.HTML object>"
            ],
            "text/html": [
              "\n",
              "      <svg width=\"800\" height=\"600\">  \n",
              "        <rect width=\"100%\" height=\"100%\" style=\"fill:white;stroke:;stroke-width:1\"/>\n",
              "        \n",
              "        \n",
              "        <path fill-rule=\"evenodd\" fill-opacity=\"1\" d=\"M 400.0 300.0  L 500.0 300.0  L 500.0 200.0  L 400.0 200.0  L 400.0 300.0 \" stroke-linecap=\"round\" style=\"stroke:black;stroke-width:1\" fill=\"green\" />\n",
              "        \n",
              "        \n",
              "        <g id=\"classic\" visibility=\"visible\" transform=\"rotate(-90,400.0,300.0) translate(400.0, 300.0)\">\n",
              "<polygon points=\"-5,-4.5 0,-2.5 5,-4.5 0,4.5\" transform=\"skewX(0) scale(1,1)\" style=\"stroke:black;fill:green;stroke-width:1\" />\n",
              "</g>\n",
              "      </svg>\n",
              "    "
            ]
          },
          "metadata": {}
        }
      ]
    },
    {
      "cell_type": "markdown",
      "source": [
        "range(start,end,step)\n",
        "\n",
        "ex.\n",
        "range(5,40,10)\n",
        "5,10,25,35\n",
        "\n",
        "ex.\n",
        "range(5,20,5)\n",
        "5,10,15"
      ],
      "metadata": {
        "id": "pWUhHc6G4GZ8"
      }
    },
    {
      "cell_type": "code",
      "source": [
        "for i in range (5,20,5):\n",
        "  print(i)"
      ],
      "metadata": {
        "colab": {
          "base_uri": "https://localhost:8080/"
        },
        "id": "x5b6byyf4lLg",
        "outputId": "a1b9c6eb-18b9-4638-9264-560be5856b63"
      },
      "execution_count": null,
      "outputs": [
        {
          "output_type": "stream",
          "name": "stdout",
          "text": [
            "5\n",
            "10\n",
            "15\n"
          ]
        }
      ]
    },
    {
      "cell_type": "markdown",
      "source": [
        "for i in range 0,1,2,3:\n",
        "statements(s)"
      ],
      "metadata": {
        "id": "jhZ7LN9r45Dd"
      }
    },
    {
      "cell_type": "markdown",
      "source": [
        "A parking garage charges $5 plus $2.50 for each hour parked. Write a program that generates a table with hours parked and the corresponding fee from 1 to 8 hours."
      ],
      "metadata": {
        "id": "x_jlN--s87ju"
      }
    },
    {
      "cell_type": "code",
      "source": [
        "k=5\n",
        "for i in range (1,9,1):\n",
        "  k=k+2.5\n",
        "  print(i,k)\n"
      ],
      "metadata": {
        "colab": {
          "base_uri": "https://localhost:8080/"
        },
        "id": "OrgeUfbT9Q8g",
        "outputId": "1c3f68c4-04d5-4e1b-a8dd-6c3a20dd0538"
      },
      "execution_count": null,
      "outputs": [
        {
          "output_type": "stream",
          "name": "stdout",
          "text": [
            "1 7.5\n",
            "2 10.0\n",
            "3 12.5\n",
            "4 15.0\n",
            "5 17.5\n",
            "6 20.0\n",
            "7 22.5\n",
            "8 25.0\n"
          ]
        }
      ]
    },
    {
      "cell_type": "code",
      "source": [
        "hello = 'Hello'\n",
        "space = ' '\n",
        "there = 'there'\n",
        "x = 2\n",
        "\n",
        "hello + space + there"
      ],
      "metadata": {
        "colab": {
          "base_uri": "https://localhost:8080/",
          "height": 35
        },
        "id": "BNBvgms7xtYe",
        "outputId": "21919fa7-ce59-4069-b621-82cb98b70513"
      },
      "execution_count": null,
      "outputs": [
        {
          "output_type": "execute_result",
          "data": {
            "text/plain": [
              "'Hello there'"
            ],
            "application/vnd.google.colaboratory.intrinsic+json": {
              "type": "string"
            }
          },
          "metadata": {},
          "execution_count": 1
        }
      ]
    },
    {
      "cell_type": "code",
      "source": [
        "import random\n",
        "\n",
        "user_choice = input(\"Enter your choice (rock, paper, or scissors): \")\n",
        "computer_choice = random.choice([\"rock\", \"paper\", \"scissors\"])\n",
        "\n",
        "print(f\"You chose: {user_choice}\")\n",
        "print(f\"Computer chose: {computer_choice}\")\n",
        "\n",
        "if user_choice == computer_choice:\n",
        "    print(\"It's a tie!\")\n",
        "elif (\n",
        "    (user_choice == \"rock\" and computer_choice == \"scissors\") or\n",
        "    (user_choice == \"paper\" and computer_choice == \"rock\") or\n",
        "    (user_choice == \"scissors\" and computer_choice == \"paper\")\n",
        "):\n",
        "    print(\"You win!\")\n",
        "else:\n",
        "    print(\"Computer wins!\")"
      ],
      "metadata": {
        "colab": {
          "base_uri": "https://localhost:8080/"
        },
        "id": "ulcvlfuM5JcQ",
        "outputId": "685893e9-567b-44b9-fec6-c85993cfcc5c"
      },
      "execution_count": null,
      "outputs": [
        {
          "output_type": "stream",
          "name": "stdout",
          "text": [
            "Enter your choice (rock, paper, or scissors): rock\n",
            "You chose: rock\n",
            "Computer chose: scissors\n",
            "You win!\n"
          ]
        }
      ]
    },
    {
      "cell_type": "code",
      "source": [
        "year = int(input(\"Enter a year: \"))\n",
        "\n",
        "if (year % 4 == 0 and year % 100 != 0) or (year % 400 == 0):\n",
        "    print(f\"{year} is a leap year!\")\n",
        "else:\n",
        "    print(f\"{year} is not a leap year.\")"
      ],
      "metadata": {
        "colab": {
          "base_uri": "https://localhost:8080/"
        },
        "id": "C1gKNXAP5PnF",
        "outputId": "72e83319-3608-4688-fcfc-0bb5355b94c2"
      },
      "execution_count": null,
      "outputs": [
        {
          "output_type": "stream",
          "name": "stdout",
          "text": [
            "Enter a year: 2000\n",
            "2000 is a leap year!\n"
          ]
        }
      ]
    },
    {
      "cell_type": "code",
      "source": [
        "while True:\n",
        "  operator = input('enter operator: ')\n",
        "\n",
        "  if operator == 'break':\n",
        "    break\n",
        "\n",
        "  num1 = float(input('enter first number: '))\n",
        "  num2 = float(input('enter second number: '))\n",
        "\n",
        "  if operator == \"+\":\n",
        "    print(f'{num1} + {num2} = {num1 + num2}')\n",
        "  elif operator == \"-\":\n",
        "    print(f'{num1} - {num2} = {num1 - num2}')\n",
        "  elif operator == \"*\":\n",
        "    print(f'{num1} * {num2} = {num1 * num2}')\n",
        "  elif operator == \"/\":\n",
        "    print(f'{num1} / {num2} = {num1 / num2}')\n",
        "  elif operator == \"//\":\n",
        "    print(f'{num1} // {num2} = {num1 // num2}')\n",
        "  elif operator == \"**\":\n",
        "    print(f'{num1} ** {num2} = {num1 ** num2}')\n",
        "  elif operator == \"%\":\n",
        "    print(f'{num1} modulo {num2} = {num1 % num2}')\n",
        "  else:\n",
        "    print(f'invalid operator: \\'{operator}\\'')\n",
        "    continue\n"
      ],
      "metadata": {
        "colab": {
          "base_uri": "https://localhost:8080/"
        },
        "id": "q-32didK8Arx",
        "outputId": "09344e29-b4fe-4532-ffd3-d645358fce1a"
      },
      "execution_count": null,
      "outputs": [
        {
          "name": "stdout",
          "output_type": "stream",
          "text": [
            "enter operator: +\n",
            "enter first number: 2\n",
            "enter second number: 3\n",
            "2.0 + 3.0 = 5.0\n",
            "enter operator: break\n"
          ]
        }
      ]
    },
    {
      "cell_type": "code",
      "source": [
        "s = 'abc'\n",
        "for char in s:\n",
        "  print(char)"
      ],
      "metadata": {
        "colab": {
          "base_uri": "https://localhost:8080/"
        },
        "id": "NEk4W1uPx2-T",
        "outputId": "f00a7e48-929f-44b2-9a31-23e10a6b102a"
      },
      "execution_count": null,
      "outputs": [
        {
          "output_type": "stream",
          "name": "stdout",
          "text": [
            "a\n",
            "b\n",
            "c\n"
          ]
        }
      ]
    },
    {
      "cell_type": "code",
      "source": [
        "s = 'abc'\n",
        "for i in range(len(s)):\n",
        "  print(s[i])\n"
      ],
      "metadata": {
        "colab": {
          "base_uri": "https://localhost:8080/"
        },
        "id": "vNI-ewLgx37K",
        "outputId": "450482d2-2d7a-4201-e2a0-fc8edba57fab"
      },
      "execution_count": null,
      "outputs": [
        {
          "output_type": "stream",
          "name": "stdout",
          "text": [
            "a\n",
            "b\n",
            "c\n"
          ]
        }
      ]
    },
    {
      "cell_type": "code",
      "source": [
        "s1 = 'abcdefg'\n",
        "s2 = 'abdght'\n",
        "\n",
        "for index in range(len(s1)):\n",
        "  if s1[index] in s2:\n",
        "    print(s1[index])"
      ],
      "metadata": {
        "colab": {
          "base_uri": "https://localhost:8080/"
        },
        "id": "kN1_zT23x9oi",
        "outputId": "73b24b9a-6d22-41c4-c3c5-2f26ead8592b"
      },
      "execution_count": null,
      "outputs": [
        {
          "output_type": "stream",
          "name": "stdout",
          "text": [
            "a\n",
            "b\n",
            "d\n",
            "g\n"
          ]
        }
      ]
    },
    {
      "cell_type": "code",
      "source": [
        "s1 = 'abcdefg'\n",
        "s2 = 'abdght'\n",
        "\n",
        "\n",
        "for char in s1:\n",
        "  if char in s2:\n",
        "    print(char)"
      ],
      "metadata": {
        "colab": {
          "base_uri": "https://localhost:8080/"
        },
        "id": "mMCUdcv_yCIU",
        "outputId": "b626be9f-d846-44ea-fcae-ca9d26774d16"
      },
      "execution_count": null,
      "outputs": [
        {
          "output_type": "stream",
          "name": "stdout",
          "text": [
            "a\n",
            "b\n",
            "d\n",
            "g\n"
          ]
        }
      ]
    },
    {
      "cell_type": "code",
      "source": [
        "s1 = 'abcdefg'\n",
        "s2 = 'abdght'\n",
        "\n",
        "for char in s1:\n",
        "  if char in s2:\n",
        "   print(char)\n",
        "\n",
        "for i in range(len(s1)):\n",
        "  if s1[i] in s2:\n",
        "    print(s1[i])"
      ],
      "metadata": {
        "colab": {
          "base_uri": "https://localhost:8080/"
        },
        "id": "DrJqB3UcyE5M",
        "outputId": "cb3fbabe-41a1-4ef2-930f-61da588d1918"
      },
      "execution_count": null,
      "outputs": [
        {
          "output_type": "stream",
          "name": "stdout",
          "text": [
            "a\n",
            "b\n",
            "d\n",
            "g\n",
            "a\n",
            "b\n",
            "d\n",
            "g\n"
          ]
        }
      ]
    },
    {
      "cell_type": "code",
      "source": [
        "s = ' '\n",
        "\n",
        "for i in range(5):\n",
        "  s = s + 'a'\n",
        "  print(len(s)-1, s)\n"
      ],
      "metadata": {
        "colab": {
          "base_uri": "https://localhost:8080/"
        },
        "id": "bESnFZmcyJTe",
        "outputId": "dae8bfce-68e1-44df-c68a-4115135c3e13"
      },
      "execution_count": null,
      "outputs": [
        {
          "output_type": "stream",
          "name": "stdout",
          "text": [
            "1  a\n",
            "2  aa\n",
            "3  aaa\n",
            "4  aaaa\n",
            "5  aaaaa\n"
          ]
        }
      ]
    },
    {
      "cell_type": "code",
      "source": [
        "L_outer = [[0,1,2,3],[4,5,7,6]]\n",
        "l = L_outer[1]\n",
        "l[0] = 7\n",
        "L_outer[1] = l\n",
        "print(L_outer)\n",
        "print(L_outer[1][0])\n"
      ],
      "metadata": {
        "colab": {
          "base_uri": "https://localhost:8080/"
        },
        "id": "vCVBpXp7yMY0",
        "outputId": "91e6ce85-f897-42ac-8aa9-bd119f9bb9b7"
      },
      "execution_count": null,
      "outputs": [
        {
          "output_type": "stream",
          "name": "stdout",
          "text": [
            "[[0, 1, 2, 3], [7, 5, 7, 6]]\n",
            "7\n"
          ]
        }
      ]
    },
    {
      "cell_type": "code",
      "source": [
        "for element in L:\n",
        "  print(element)\n",
        "  #Can be used for any sequential element"
      ],
      "metadata": {
        "id": "a2wWIEpgyWXV"
      },
      "execution_count": null,
      "outputs": []
    },
    {
      "cell_type": "code",
      "source": [
        "grades = {\n",
        "    'alice':91,\n",
        "    'bob': 88,\n",
        "    'tracy': 93,\n",
        "    'erik': 90\n",
        "}"
      ],
      "metadata": {
        "id": "pdD1D6zYAaC8"
      },
      "execution_count": null,
      "outputs": []
    },
    {
      "cell_type": "code",
      "source": [
        "grades ['alice']= 95\n",
        "grades"
      ],
      "metadata": {
        "colab": {
          "base_uri": "https://localhost:8080/"
        },
        "id": "sCGTkSaUAwRd",
        "outputId": "fae532cd-595b-4b9c-fe55-391c42aeae66"
      },
      "execution_count": null,
      "outputs": [
        {
          "output_type": "execute_result",
          "data": {
            "text/plain": [
              "{'alice': 95, 'bob': 88, 'tracy': 93, 'erik': 90}"
            ]
          },
          "metadata": {},
          "execution_count": 6
        }
      ]
    },
    {
      "cell_type": "code",
      "source": [
        "grades = {\n",
        "    'Alice': 91,\n",
        "    'Bob': 88,\n",
        "    'Tracy': 93,\n",
        "    'Erik': 90\n",
        "}\n",
        "\n",
        "grades['Bob']\n",
        "\n",
        "grades['Michael'] = 95\n",
        "\n",
        "grades['Alice'] = 95 #Will change the value for Alice\n",
        "\n",
        "del grades['Alice'] #Will remove Alice key from dictionary\n",
        "\n",
        "del(grades['Bob']) #Another way to write\n",
        "\n",
        "grades.keys() #Returns a list of all the keys\n",
        "\n",
        "grades.values() #Returns a list of values associated with keys\n",
        "\n",
        "grades.items() #Returns both keys and values\n",
        "\n",
        "for key in grades.keys():\n",
        "  print(key)"
      ],
      "metadata": {
        "id": "L51MBv_Oyj_X",
        "outputId": "cdb409af-d3d0-43c7-e433-44dc122d5ebe",
        "colab": {
          "base_uri": "https://localhost:8080/"
        }
      },
      "execution_count": null,
      "outputs": [
        {
          "output_type": "stream",
          "name": "stdout",
          "text": [
            "Tracy\n",
            "Erik\n",
            "Michael\n"
          ]
        }
      ]
    },
    {
      "cell_type": "code",
      "source": [
        "def fill(l):\n",
        "  for i in range(10):\n",
        "    l.append(i)\n",
        "    if 1%2 == 0:\n",
        "      l.pop()\n",
        "  print(l)"
      ],
      "metadata": {
        "id": "28hLduuq5XFM"
      },
      "execution_count": null,
      "outputs": []
    },
    {
      "cell_type": "code",
      "source": [
        "alist = []\n",
        "\n",
        "for i in range (10):\n",
        "  alist.append(i)\n",
        "  if i%2 == 0:\n",
        "    alist.pop()\n",
        "\n",
        "print(alist)"
      ],
      "metadata": {
        "colab": {
          "base_uri": "https://localhost:8080/"
        },
        "id": "vdXxuyuJ33We",
        "outputId": "fe1a2c0d-8431-4a30-9fbb-463ade6e3a19"
      },
      "execution_count": null,
      "outputs": [
        {
          "output_type": "stream",
          "name": "stdout",
          "text": [
            "[1, 3, 5, 7, 9]\n"
          ]
        }
      ]
    },
    {
      "cell_type": "code",
      "source": [
        "def fill(l):\n",
        "  for i in range(10):\n",
        "    l.append(i)\n",
        "    if i%2 == 0:\n",
        "      l.pop()\n",
        "  print(l)\n",
        "\n",
        "alist = []\n",
        "fill(alist)"
      ],
      "metadata": {
        "colab": {
          "base_uri": "https://localhost:8080/"
        },
        "id": "YltyVoRg3r54",
        "outputId": "7d206630-26f4-4d70-8b4f-b54420b10913"
      },
      "execution_count": null,
      "outputs": [
        {
          "output_type": "stream",
          "name": "stdout",
          "text": [
            "[1, 3, 5, 7, 9]\n"
          ]
        }
      ]
    },
    {
      "cell_type": "code",
      "source": [
        "def greeting(n):\n",
        "  print(f'hello {n}!')\n",
        "\n",
        "name = input('Enter a Name: ')\n",
        "greeting(name)"
      ],
      "metadata": {
        "colab": {
          "base_uri": "https://localhost:8080/"
        },
        "id": "iurMRWSL-2Mr",
        "outputId": "fc0a9d62-dc4c-4b45-d502-263949310947"
      },
      "execution_count": null,
      "outputs": [
        {
          "output_type": "stream",
          "name": "stdout",
          "text": [
            "Enter a Name: Abby\n",
            "hello Abby!\n"
          ]
        }
      ]
    },
    {
      "cell_type": "code",
      "source": [
        "def add_num(a,b):\n",
        "  bob = a + b\n",
        "  return bob\n",
        "\n",
        "x = 5\n",
        "y = 6\n",
        "c = add_num(x,y)\n",
        "print(c)"
      ],
      "metadata": {
        "colab": {
          "base_uri": "https://localhost:8080/"
        },
        "id": "rzqXfGKuCAF2",
        "outputId": "d479c480-1b68-4253-e4b7-eef27e3f106c"
      },
      "execution_count": null,
      "outputs": [
        {
          "output_type": "stream",
          "name": "stdout",
          "text": [
            "11\n"
          ]
        }
      ]
    },
    {
      "cell_type": "code",
      "source": [
        "def add_num(a,b):\n",
        "  bob = a + b\n",
        "  bob_sq = bob ** 2\n",
        "  return bob, bob_sq\n",
        "\n",
        "x = 5\n",
        "y = 6\n",
        "c, c_sq = add_num(x,y)\n",
        "print(c_sq)"
      ],
      "metadata": {
        "colab": {
          "base_uri": "https://localhost:8080/"
        },
        "id": "laB088xxEncd",
        "outputId": "f59a2b40-d107-41ee-a984-646b659f1a0f"
      },
      "execution_count": null,
      "outputs": [
        {
          "output_type": "stream",
          "name": "stdout",
          "text": [
            "121\n"
          ]
        }
      ]
    },
    {
      "cell_type": "code",
      "source": [
        "def fill():\n",
        "  l = []\n",
        "\n",
        "  for i in range(10):\n",
        "    l.append(i)\n",
        "    if i%2 == 0:\n",
        "      l.pop()\n",
        "  print(l)\n",
        "\n",
        "fill()\n"
      ],
      "metadata": {
        "colab": {
          "base_uri": "https://localhost:8080/"
        },
        "id": "6rvlAw3vDxTe",
        "outputId": "833a9e21-0667-461a-f745-03bc535af0a6"
      },
      "execution_count": null,
      "outputs": [
        {
          "output_type": "stream",
          "name": "stdout",
          "text": [
            "[1, 3, 5, 7, 9]\n"
          ]
        }
      ]
    },
    {
      "cell_type": "code",
      "source": [
        "def add_num(a,b):\n",
        "  return a+b\n",
        "\n",
        "c = add_num(5,6)\n",
        "print(c)"
      ],
      "metadata": {
        "colab": {
          "base_uri": "https://localhost:8080/"
        },
        "id": "GELvfH-XLUcO",
        "outputId": "271b54c0-85fc-41e2-a3c2-9bedfa1e1d4c"
      },
      "execution_count": null,
      "outputs": [
        {
          "output_type": "stream",
          "name": "stdout",
          "text": [
            "11\n"
          ]
        }
      ]
    },
    {
      "cell_type": "code",
      "source": [
        "def example():\n",
        "  print('this is an example')\n",
        "\n",
        "name = example()\n",
        "print(name)"
      ],
      "metadata": {
        "colab": {
          "base_uri": "https://localhost:8080/"
        },
        "id": "K8ELR0or6blu",
        "outputId": "b628e4d6-5a21-4fc3-cfa2-9cee13b09dc4"
      },
      "execution_count": null,
      "outputs": [
        {
          "output_type": "stream",
          "name": "stdout",
          "text": [
            "this is an example\n",
            "None\n"
          ]
        }
      ]
    },
    {
      "cell_type": "code",
      "source": [
        "def f(x): #name x used as formal parameter\n",
        "  y = 1\n",
        "  x = x + y\n",
        "  print('x =', x)\n",
        "  return x\n",
        "\n",
        "x = 3\n",
        "y = 2\n",
        "z = f(x) #value of x used as actual parameter\n",
        "print('z =', z)\n",
        "print('x =', x)\n",
        "print('y =', y)"
      ],
      "metadata": {
        "colab": {
          "base_uri": "https://localhost:8080/"
        },
        "id": "XATjW_8u-YJU",
        "outputId": "8db81929-a5af-4377-bc41-db26b3006a9d"
      },
      "execution_count": null,
      "outputs": [
        {
          "output_type": "stream",
          "name": "stdout",
          "text": [
            "x = 4\n",
            "z = 4\n",
            "x = 3\n",
            "y = 2\n"
          ]
        }
      ]
    },
    {
      "cell_type": "code",
      "source": [
        "def f():\n",
        "  print(x)\n",
        "\n",
        "def g():\n",
        "  print(x)\n",
        "\n",
        "x = 1\n",
        "x = 3\n",
        "f()\n",
        "x = 3\n",
        "g()"
      ],
      "metadata": {
        "id": "WWcWTpmf-4yU",
        "colab": {
          "base_uri": "https://localhost:8080/"
        },
        "outputId": "9a0040a4-0c7d-422b-a74b-419c36667be7"
      },
      "execution_count": null,
      "outputs": [
        {
          "output_type": "stream",
          "name": "stdout",
          "text": [
            "3\n",
            "3\n"
          ]
        }
      ]
    },
    {
      "cell_type": "code",
      "source": [
        "def recursive_countdown(n):\n",
        "  if n == 0:\n",
        "    print(0)\n",
        "  else:\n",
        "    print(n)\n",
        "    recursive_countdown(n-1)\n",
        "\n",
        "recursive_countdown(5)"
      ],
      "metadata": {
        "colab": {
          "base_uri": "https://localhost:8080/"
        },
        "id": "JPX0Wu5MA-Vj",
        "outputId": "f1ee345e-eee0-4681-9b56-05a6a91f25e9"
      },
      "execution_count": null,
      "outputs": [
        {
          "output_type": "stream",
          "name": "stdout",
          "text": [
            "5\n",
            "4\n",
            "3\n",
            "2\n",
            "1\n",
            "0\n"
          ]
        }
      ]
    },
    {
      "cell_type": "code",
      "source": [
        "def summation(n):\n",
        "  s = 0\n",
        "  while n >= 0:\n",
        "    s = s + n\n",
        "    n = n-1\n",
        "\n",
        "  return s\n",
        "\n",
        "summation(3)"
      ],
      "metadata": {
        "colab": {
          "base_uri": "https://localhost:8080/"
        },
        "id": "0mnMS8fxEDdb",
        "outputId": "95ac2c2f-13c8-4055-e664-199e29a302b7"
      },
      "execution_count": null,
      "outputs": [
        {
          "output_type": "execute_result",
          "data": {
            "text/plain": [
              "6"
            ]
          },
          "metadata": {},
          "execution_count": 11
        }
      ]
    },
    {
      "cell_type": "code",
      "source": [
        "def recursive_summation(n):\n",
        "  if n ==0:\n",
        "    return 0\n",
        "  else:\n",
        "    return n + recursive_summation(n-1)\n",
        "\n",
        "recursive_summation(3)"
      ],
      "metadata": {
        "colab": {
          "base_uri": "https://localhost:8080/"
        },
        "id": "YlGQ3_jqIHVJ",
        "outputId": "dfab5a49-4666-4aa3-874c-7b8ca3698330"
      },
      "execution_count": null,
      "outputs": [
        {
          "output_type": "execute_result",
          "data": {
            "text/plain": [
              "6"
            ]
          },
          "metadata": {},
          "execution_count": 13
        }
      ]
    },
    {
      "cell_type": "code",
      "source": [
        "def factR(n):\n",
        "  if n == 1:\n",
        "    return 1\n",
        "  else:\n",
        "    return n * factR(n-1)\n",
        "\n",
        "factR(5)"
      ],
      "metadata": {
        "colab": {
          "base_uri": "https://localhost:8080/"
        },
        "id": "QQDZ1UBvJPJt",
        "outputId": "ad798c4c-3a98-4497-ba33-070e425433c4"
      },
      "execution_count": null,
      "outputs": [
        {
          "output_type": "execute_result",
          "data": {
            "text/plain": [
              "120"
            ]
          },
          "metadata": {},
          "execution_count": 14
        }
      ]
    },
    {
      "cell_type": "code",
      "source": [
        "def fibR(n):\n",
        "  if n == 0 or n == 1:\n",
        "    return 1\n",
        "  else:\n",
        "    return fibR(n-1) + fibR(n-2)\n",
        "\n",
        "for i in range(8):\n",
        "  print(fibR(i), end=\", \")"
      ],
      "metadata": {
        "colab": {
          "base_uri": "https://localhost:8080/"
        },
        "id": "EYu-JgVRMA9J",
        "outputId": "d6db6919-e4f3-4ecc-c37a-e9e97e598cf4"
      },
      "execution_count": null,
      "outputs": [
        {
          "output_type": "stream",
          "name": "stdout",
          "text": [
            "1, 1, 2, 3, 5, 8, 13, 21, "
          ]
        }
      ]
    },
    {
      "cell_type": "code",
      "source": [
        "try:\n",
        "  a = float (input('Enter the Numerator: '))\n",
        "  b = float (input('Enter the Denominator: '))\n",
        "  print(a/b)\n",
        "  print('Division complete')\n",
        "except ZeroDivisionError:\n",
        "  print('Division by zero not allowed!')\n",
        "except ValueError:\n",
        "  print('Invalid input')\n",
        "except:\n",
        "  print('Unknown error...')\n",
        "\n",
        "\n",
        "print('Program ends')"
      ],
      "metadata": {
        "colab": {
          "base_uri": "https://localhost:8080/"
        },
        "id": "nSieonQfAse0",
        "outputId": "2d6475a6-929c-460f-fa44-6572627bac37"
      },
      "execution_count": null,
      "outputs": [
        {
          "output_type": "stream",
          "name": "stdout",
          "text": [
            "Enter the Numerator: abc\n",
            "Invalid input\n",
            "Program ends\n"
          ]
        }
      ]
    },
    {
      "cell_type": "code",
      "source": [
        "l = [1,3,5,7,9]\n",
        "\n",
        "try:\n",
        "  idx = int(input('Enter index: '))\n",
        "  print(l[idx])\n",
        "except IndexError:\n",
        "  print('Index value out of bounds!')\n",
        "except TypeError:\n",
        "  print('Indexes must be in int')"
      ],
      "metadata": {
        "colab": {
          "base_uri": "https://localhost:8080/"
        },
        "id": "L-yVVo3kG8wi",
        "outputId": "9ee0b711-2bfb-4e51-c137-1ab646a40220"
      },
      "execution_count": null,
      "outputs": [
        {
          "output_type": "stream",
          "name": "stdout",
          "text": [
            "Enter index: 8\n",
            "Index value out of bounds!\n"
          ]
        }
      ]
    },
    {
      "cell_type": "code",
      "source": [
        "def avg(alist):\n",
        "  try:\n",
        "    return sum(alist) / len(alist)\n",
        "  except ZeroDivisionError:\n",
        "    print('The list is empty!')\n",
        "    return\n",
        "  except TypeError:\n",
        "    print('The list is not purley numerical')\n",
        "    return float('nan')\n",
        "\n",
        "l = [1,2,3]\n",
        "avg(l)"
      ],
      "metadata": {
        "colab": {
          "base_uri": "https://localhost:8080/"
        },
        "id": "jTVNd0egKLhl",
        "outputId": "da06fe20-eda9-4e86-f1b7-08e2e831f169"
      },
      "execution_count": null,
      "outputs": [
        {
          "output_type": "execute_result",
          "data": {
            "text/plain": [
              "2.0"
            ]
          },
          "metadata": {},
          "execution_count": 12
        }
      ]
    },
    {
      "cell_type": "code",
      "source": [
        "class Vehicle:\n",
        "  def __init__(self,n_wheels, n_seats, engine, pedals, dims):\n",
        "    # Setting up (initializing) attributes\n",
        "    self.n_wheels = n_wheels\n",
        "    self.n_seats = n_seats\n",
        "    self.engine = engine\n",
        "    self.pedals = pedals\n",
        "    self.dims = dims\n",
        "    self.model = None\n",
        "\n",
        "  def acc(self):\n",
        "    print(\"The vehicle is accelerating\")\n",
        "\n",
        "  def dec(self):\n",
        "    print(\"The vehicle is decelerating\")"
      ],
      "metadata": {
        "id": "CEwpTXPZOKX_"
      },
      "execution_count": null,
      "outputs": []
    },
    {
      "cell_type": "code",
      "source": [
        "v = Vehicle(4, 4, 'ICE', 3, [1,2,3])\n",
        "v.acc()"
      ],
      "metadata": {
        "colab": {
          "base_uri": "https://localhost:8080/"
        },
        "id": "ZgpUdb1eQFUx",
        "outputId": "33cbd7b9-d60f-4cc7-adc6-42c1f04a1bab"
      },
      "execution_count": null,
      "outputs": [
        {
          "output_type": "stream",
          "name": "stdout",
          "text": [
            "The vehicle is accelerating\n"
          ]
        }
      ]
    },
    {
      "cell_type": "code",
      "source": [
        "class A:\n",
        "  def __init__(self, item):\n",
        "    self.item = item\n",
        "  def whoAmI(self):\n",
        "    print('I am an instance of A')\n",
        "\n",
        "class B:\n",
        "  def __init__(self, item):\n",
        "    self.item = item\n",
        "  def whoAmI(self):\n",
        "    print('I am an instance of B')\n",
        "\n",
        "a = A(2)\n",
        "b = B(3)"
      ],
      "metadata": {
        "id": "WJmUQRG_HA9L"
      },
      "execution_count": null,
      "outputs": []
    },
    {
      "cell_type": "code",
      "source": [
        "B.whoAmI(b)"
      ],
      "metadata": {
        "colab": {
          "base_uri": "https://localhost:8080/"
        },
        "id": "N5Ux7c0wRsum",
        "outputId": "d5061cb8-452e-4a3a-f454-0a9b74526110"
      },
      "execution_count": null,
      "outputs": [
        {
          "output_type": "stream",
          "name": "stdout",
          "text": [
            "I am an instance of B\n"
          ]
        }
      ]
    },
    {
      "cell_type": "code",
      "source": [
        "class Animal:\n",
        "  def __init__(self):\n",
        "    print('Animal created')\n",
        "  def whoAmI(self):\n",
        "    print('I am an Animal')\n",
        "\n",
        "class Bird(Animal):\n",
        "  def __init__(self):\n",
        "    super().__init__()\n",
        "    print('Bird created')\n",
        "  def fly(self):\n",
        "    print('Birds can fly')"
      ],
      "metadata": {
        "id": "wvsovyUTSzIe"
      },
      "execution_count": null,
      "outputs": []
    },
    {
      "cell_type": "code",
      "source": [
        "a = Animal()\n",
        "b = Bird()"
      ],
      "metadata": {
        "colab": {
          "base_uri": "https://localhost:8080/"
        },
        "id": "VgyW33I-TOmf",
        "outputId": "6040ea04-3458-4738-c894-bde5dbdfec84"
      },
      "execution_count": null,
      "outputs": [
        {
          "output_type": "stream",
          "name": "stdout",
          "text": [
            "Animal created\n",
            "Animal created\n",
            "Bird created\n"
          ]
        }
      ]
    },
    {
      "cell_type": "code",
      "source": [
        "a.whoAmI()"
      ],
      "metadata": {
        "colab": {
          "base_uri": "https://localhost:8080/"
        },
        "id": "6-EztXx1TmkZ",
        "outputId": "5e66b8b3-beb6-4ee6-a0c6-7834ea4d5165"
      },
      "execution_count": null,
      "outputs": [
        {
          "output_type": "stream",
          "name": "stdout",
          "text": [
            "I am an Animal\n"
          ]
        }
      ]
    },
    {
      "cell_type": "code",
      "source": [
        "b.fly()\n",
        "#a.fly() would give an error"
      ],
      "metadata": {
        "colab": {
          "base_uri": "https://localhost:8080/"
        },
        "id": "Rvoq72OZT-_H",
        "outputId": "06b43a75-bfb2-4bfb-c6fc-19a0311a7411"
      },
      "execution_count": null,
      "outputs": [
        {
          "output_type": "stream",
          "name": "stdout",
          "text": [
            "Birds can fly\n"
          ]
        }
      ]
    },
    {
      "cell_type": "code",
      "source": [
        "class Mortgage:\n",
        "  def __init__(self, amount, maturity, interest):\n",
        "    self.amount = amount\n",
        "    self.maturity = maturity\n",
        "    self.__interest = interest\n",
        "\n",
        "  def __str__(self):\n",
        "    return f'Mortgage info:\\n Initial loan amount: {self.amount}$\\n Maturity term: {self.maturity} years\\n Interest Rate: {self.interest}%'\n",
        "\n",
        "  def get_interest(self):\n",
        "    return self.__interest\n",
        "\n",
        "  def set_interest(self, newInterest):\n",
        "    if newInterest >= 0:\n",
        "      self.__interest = newInterest\n",
        "\n",
        "  def payment(self):\n",
        "    B = self.amount\n",
        "    r = self.__interest / 100\n",
        "    n = self.maturity * 12\n",
        "    return B * (r*(1+r)**n) / ((1+r)**n-1)"
      ],
      "metadata": {
        "id": "WVIe2zqI-5N5"
      },
      "execution_count": 1,
      "outputs": []
    },
    {
      "cell_type": "code",
      "source": [
        "months = {}\n",
        "\n",
        "numbers = [1,2,3,4,5,6,7,8,9,10,11,12]\n",
        "names = ['January', 'February', 'March', 'April', 'May', 'June', 'July', 'August', 'September', 'October', 'November', 'December']\n",
        "\n",
        "for i in range(len(numbers)):\n",
        "  months[numbers[i]] = names[i]\n",
        "\n",
        "print(months)"
      ],
      "metadata": {
        "colab": {
          "base_uri": "https://localhost:8080/"
        },
        "id": "PPzQySrA_F_i",
        "outputId": "dd73a892-922a-4674-83a5-3bdb189304f3"
      },
      "execution_count": null,
      "outputs": [
        {
          "output_type": "stream",
          "name": "stdout",
          "text": [
            "{1: 'January', 2: 'February', 3: 'March', 4: 'April', 5: 'May', 6: 'June', 7: 'July', 8: 'August', 9: 'September', 10: 'October', 11: 'November', 12: 'December'}\n"
          ]
        }
      ]
    },
    {
      "cell_type": "code",
      "source": [
        "deposit = 2000\n",
        "\n",
        "if deposit > 10000:\n",
        "  ir = 3.5\n",
        "if deposit > 1000 or deposit <= 10000:\n",
        "  ir = 3.25\n",
        "if deposit <= 1000:\n",
        "  ir = 3.0\n",
        "\n",
        "total = (1 + ir/100)*deposit\n",
        "print(total)"
      ],
      "metadata": {
        "colab": {
          "base_uri": "https://localhost:8080/"
        },
        "id": "eayptgTf_vVV",
        "outputId": "241f4831-9e34-45c1-89e7-0087460f8ebd"
      },
      "execution_count": null,
      "outputs": [
        {
          "output_type": "stream",
          "name": "stdout",
          "text": [
            "2065.0\n"
          ]
        }
      ]
    },
    {
      "cell_type": "code",
      "source": [
        "List = []\n",
        "while True:\n",
        "  userinput = int(input('Enter an integer to append to the list: '))\n",
        "  if userinput == 0:\n",
        "    break\n",
        "  List.append(userinput)\n",
        "  print(f'Here is your current list: {List}')\n",
        "\n",
        "print(f'Here is your list: {List}')"
      ],
      "metadata": {
        "colab": {
          "base_uri": "https://localhost:8080/"
        },
        "id": "xy5HbHPb_2rH",
        "outputId": "283a329c-a465-4a73-d071-cbd502c77269"
      },
      "execution_count": null,
      "outputs": [
        {
          "output_type": "stream",
          "name": "stdout",
          "text": [
            "Enter an integer to append to the list: 0\n",
            "Here is your list: []\n"
          ]
        }
      ]
    },
    {
      "cell_type": "code",
      "source": [
        "print(f'Ad$ Profit')\n",
        "\n",
        "init_attendees = 20\n",
        "fixed_cost = 200\n",
        "\n",
        "for advertising in range(0, 201, 25):\n",
        "  ad = float(advertising)\n",
        "  attendees = float(2*round(advertising**0.5) + init_attendees)\n",
        "  profit = float((attendees * 10) - advertising - fixed_cost)\n",
        "  print(f'{ad} ${profit}')\n"
      ],
      "metadata": {
        "id": "DeSl2xP8AC7d",
        "outputId": "2b498f6e-edbe-44b1-db5c-9ef5682c5a81",
        "colab": {
          "base_uri": "https://localhost:8080/"
        }
      },
      "execution_count": null,
      "outputs": [
        {
          "output_type": "stream",
          "name": "stdout",
          "text": [
            "Ad$ Profit\n",
            "0.0 $0.0\n",
            "25.0 $75.0\n",
            "50.0 $90.0\n",
            "75.0 $105.0\n",
            "100.0 $100.0\n",
            "125.0 $95.0\n",
            "150.0 $90.0\n",
            "175.0 $85.0\n",
            "200.0 $80.0\n"
          ]
        }
      ]
    },
    {
      "cell_type": "code",
      "source": [
        "user_input = input(\"Enter today's date in the format mm/dd/yyyy: \")\n",
        "\n",
        "month = user_input[0:2]\n",
        "day = user_input[3:5]\n",
        "year = user_input[6:10]\n",
        "\n",
        "print('Month: ', month)\n",
        "print('Day: ', day)\n",
        "print('Year: ', year)"
      ],
      "metadata": {
        "colab": {
          "base_uri": "https://localhost:8080/"
        },
        "id": "NO1fJbZ8BAJ5",
        "outputId": "737740a0-dd2d-4be9-92c9-f0b77532915e"
      },
      "execution_count": 4,
      "outputs": [
        {
          "output_type": "stream",
          "name": "stdout",
          "text": [
            "Enter today's date in the format mm/dd/yyyy: 03/30/2024\n",
            "Month:  03\n",
            "Day:  30\n",
            "Year:  2024\n"
          ]
        }
      ]
    },
    {
      "cell_type": "code",
      "source": [
        "class Point:\n",
        "  def __init__(self, x, y):\n",
        "    self.x = x\n",
        "    self.y = y\n",
        "  def distance(self, other):\n",
        "    x_diff = (self.x - other.x) ** 2\n",
        "    y_diff = (self.y - other.y) ** 2\n",
        "    return (x_diff + y_diff) ** 0.5\n",
        "\n",
        "class Point3D(Point):\n",
        "  def __init__(self, x, y, z):\n",
        "    super().__init__(x, y)\n",
        "\n",
        "p1 = Point(3, 4)\n",
        "p2 = Point(6, 8)\n",
        "print(p1.distance(p2))\n",
        "p3 = Point3D(3, 4, 5)"
      ],
      "metadata": {
        "colab": {
          "base_uri": "https://localhost:8080/"
        },
        "id": "f7chzU3pQbnX",
        "outputId": "adc618a1-b6da-410a-d7e1-ea0e83713854"
      },
      "execution_count": 5,
      "outputs": [
        {
          "output_type": "stream",
          "name": "stdout",
          "text": [
            "5.0\n"
          ]
        }
      ]
    }
  ]
}