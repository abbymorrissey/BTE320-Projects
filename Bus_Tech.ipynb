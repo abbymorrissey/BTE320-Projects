{
  "nbformat": 4,
  "nbformat_minor": 0,
  "metadata": {
    "colab": {
      "provenance": [],
      "authorship_tag": "ABX9TyOzL7k41KNtbwCRZ8/zwwtk",
      "include_colab_link": true
    },
    "kernelspec": {
      "name": "python3",
      "display_name": "Python 3"
    },
    "language_info": {
      "name": "python"
    }
  },
  "cells": [
    {
      "cell_type": "markdown",
      "metadata": {
        "id": "view-in-github",
        "colab_type": "text"
      },
      "source": [
        "<a href=\"https://colab.research.google.com/github/abbymorrissey/BTE320-Projects/blob/main/Bus_Tech.ipynb\" target=\"_parent\"><img src=\"https://colab.research.google.com/assets/colab-badge.svg\" alt=\"Open In Colab\"/></a>"
      ]
    },
    {
      "cell_type": "code",
      "execution_count": null,
      "metadata": {
        "colab": {
          "base_uri": "https://localhost:8080/"
        },
        "id": "mmgCUPafyAQB",
        "outputId": "36181d96-d236-4f43-983f-3e45d6862a0e"
      },
      "outputs": [
        {
          "output_type": "stream",
          "name": "stdout",
          "text": [
            "Collecting ColabTurtlePlus\n",
            "  Downloading ColabTurtlePlus-2.0.1-py3-none-any.whl (31 kB)\n",
            "Installing collected packages: ColabTurtlePlus\n",
            "Successfully installed ColabTurtlePlus-2.0.1\n"
          ]
        }
      ],
      "source": [
        "!pip install ColabTurtlePlus"
      ]
    },
    {
      "cell_type": "code",
      "source": [
        "from ColabTurtlePlus.Turtle import *\n",
        "\n",
        "clearscreen()\n",
        "\n",
        "color('black','green')\n",
        "begin_fill()\n",
        "\n",
        "for i in range(4):\n",
        "  forward(100)\n",
        "  left(90)\n",
        "\n",
        "\n",
        "end_fill()"
      ],
      "metadata": {
        "colab": {
          "base_uri": "https://localhost:8080/",
          "height": 621
        },
        "id": "EdlflvgQyPnd",
        "outputId": "f9126977-33a4-4d69-c26d-062511126922"
      },
      "execution_count": null,
      "outputs": [
        {
          "output_type": "display_data",
          "data": {
            "text/plain": [
              "<IPython.core.display.HTML object>"
            ],
            "text/html": [
              "\n",
              "      <svg width=\"800\" height=\"600\">  \n",
              "        <rect width=\"100%\" height=\"100%\" style=\"fill:white;stroke:;stroke-width:1\"/>\n",
              "        \n",
              "        \n",
              "        <path fill-rule=\"evenodd\" fill-opacity=\"1\" d=\"M 400.0 300.0  L 500.0 300.0  L 500.0 200.0  L 400.0 200.0  L 400.0 300.0 \" stroke-linecap=\"round\" style=\"stroke:black;stroke-width:1\" fill=\"green\" />\n",
              "        \n",
              "        \n",
              "        <g id=\"classic\" visibility=\"visible\" transform=\"rotate(-90,400.0,300.0) translate(400.0, 300.0)\">\n",
              "<polygon points=\"-5,-4.5 0,-2.5 5,-4.5 0,4.5\" transform=\"skewX(0) scale(1,1)\" style=\"stroke:black;fill:green;stroke-width:1\" />\n",
              "</g>\n",
              "      </svg>\n",
              "    "
            ]
          },
          "metadata": {}
        }
      ]
    },
    {
      "cell_type": "markdown",
      "source": [
        "range(start,end,step)\n",
        "\n",
        "ex.\n",
        "range(5,40,10)\n",
        "5,10,25,35\n",
        "\n",
        "ex.\n",
        "range(5,20,5)\n",
        "5,10,15"
      ],
      "metadata": {
        "id": "pWUhHc6G4GZ8"
      }
    },
    {
      "cell_type": "code",
      "source": [
        "for i in range (5,20,5):\n",
        "  print(i)"
      ],
      "metadata": {
        "colab": {
          "base_uri": "https://localhost:8080/"
        },
        "id": "x5b6byyf4lLg",
        "outputId": "a1b9c6eb-18b9-4638-9264-560be5856b63"
      },
      "execution_count": null,
      "outputs": [
        {
          "output_type": "stream",
          "name": "stdout",
          "text": [
            "5\n",
            "10\n",
            "15\n"
          ]
        }
      ]
    },
    {
      "cell_type": "markdown",
      "source": [
        "for i in range 0,1,2,3:\n",
        "statements(s)"
      ],
      "metadata": {
        "id": "jhZ7LN9r45Dd"
      }
    },
    {
      "cell_type": "markdown",
      "source": [
        "A parking garage charges $5 plus $2.50 for each hour parked. Write a program that generates a table with hours parked and the corresponding fee from 1 to 8 hours."
      ],
      "metadata": {
        "id": "x_jlN--s87ju"
      }
    },
    {
      "cell_type": "code",
      "source": [
        "k=5\n",
        "for i in range (1,9,1):\n",
        "  k=k+2.5\n",
        "  print(i,k)\n"
      ],
      "metadata": {
        "colab": {
          "base_uri": "https://localhost:8080/"
        },
        "id": "OrgeUfbT9Q8g",
        "outputId": "890a0f81-69d6-4949-f3f2-c2ceaf381b19"
      },
      "execution_count": null,
      "outputs": [
        {
          "output_type": "stream",
          "name": "stdout",
          "text": [
            "1 7.5\n",
            "2 10.0\n",
            "3 12.5\n",
            "4 15.0\n",
            "5 17.5\n",
            "6 20.0\n",
            "7 22.5\n",
            "8 25.0\n"
          ]
        }
      ]
    },
    {
      "cell_type": "code",
      "source": [
        "hello = 'Hello'\n",
        "space = ' '\n",
        "there = 'there'\n",
        "x = 2\n",
        "\n",
        "hello + space + there"
      ],
      "metadata": {
        "colab": {
          "base_uri": "https://localhost:8080/",
          "height": 35
        },
        "id": "BNBvgms7xtYe",
        "outputId": "21919fa7-ce59-4069-b621-82cb98b70513"
      },
      "execution_count": null,
      "outputs": [
        {
          "output_type": "execute_result",
          "data": {
            "text/plain": [
              "'Hello there'"
            ],
            "application/vnd.google.colaboratory.intrinsic+json": {
              "type": "string"
            }
          },
          "metadata": {},
          "execution_count": 1
        }
      ]
    },
    {
      "cell_type": "code",
      "source": [
        "import random\n",
        "\n",
        "user_choice = input(\"Enter your choice (rock, paper, or scissors): \")\n",
        "computer_choice = random.choice([\"rock\", \"paper\", \"scissors\"])\n",
        "\n",
        "print(f\"You chose: {user_choice}\")\n",
        "print(f\"Computer chose: {computer_choice}\")\n",
        "\n",
        "if user_choice == computer_choice:\n",
        "    print(\"It's a tie!\")\n",
        "elif (\n",
        "    (user_choice == \"rock\" and computer_choice == \"scissors\") or\n",
        "    (user_choice == \"paper\" and computer_choice == \"rock\") or\n",
        "    (user_choice == \"scissors\" and computer_choice == \"paper\")\n",
        "):\n",
        "    print(\"You win!\")\n",
        "else:\n",
        "    print(\"Computer wins!\")"
      ],
      "metadata": {
        "colab": {
          "base_uri": "https://localhost:8080/"
        },
        "id": "ulcvlfuM5JcQ",
        "outputId": "0eb15f57-188f-4adc-9a6e-a3b02e50490f"
      },
      "execution_count": null,
      "outputs": [
        {
          "output_type": "stream",
          "name": "stdout",
          "text": [
            "Enter your choice (rock, paper, or scissors): rock\n",
            "You chose: rock\n",
            "Computer chose: paper\n",
            "Computer wins!\n"
          ]
        }
      ]
    },
    {
      "cell_type": "code",
      "source": [
        "year = int(input(\"Enter a year: \"))\n",
        "\n",
        "if (year % 4 == 0 and year % 100 != 0) or (year % 400 == 0):\n",
        "    print(f\"{year} is a leap year!\")\n",
        "else:\n",
        "    print(f\"{year} is not a leap year.\")"
      ],
      "metadata": {
        "colab": {
          "base_uri": "https://localhost:8080/"
        },
        "id": "C1gKNXAP5PnF",
        "outputId": "ba0934e9-e4af-4ad1-f2dd-628d7a3b331b"
      },
      "execution_count": null,
      "outputs": [
        {
          "output_type": "stream",
          "name": "stdout",
          "text": [
            "Enter a year: 2000\n",
            "2000 is a leap year!\n"
          ]
        }
      ]
    },
    {
      "cell_type": "code",
      "source": [
        "while True:\n",
        "  operator = input('enter operator: ')\n",
        "\n",
        "  if operator == 'break':\n",
        "    break\n",
        "\n",
        "  num1 = float(input('enter first number: '))\n",
        "  num2 = float(input('enter second number: '))\n",
        "\n",
        "  if operator == \"+\":\n",
        "    print(f'{num1} + {num2} = {num1 + num2}')\n",
        "  elif operator == \"-\":\n",
        "    print(f'{num1} - {num2} = {num1 - num2}')\n",
        "  elif operator == \"*\":\n",
        "    print(f'{num1} * {num2} = {num1 * num2}')\n",
        "  elif operator == \"/\":\n",
        "    print(f'{num1} / {num2} = {num1 / num2}')\n",
        "  elif operator == \"//\":\n",
        "    print(f'{num1} // {num2} = {num1 // num2}')\n",
        "  elif operator == \"**\":\n",
        "    print(f'{num1} ** {num2} = {num1 ** num2}')\n",
        "  elif operator == \"%\":\n",
        "    print(f'{num1} modulo {num2} = {num1 % num2}')\n",
        "  else:\n",
        "    print(f'invalid operator: \\'{operator}\\'')\n",
        "    continue\n"
      ],
      "metadata": {
        "colab": {
          "base_uri": "https://localhost:8080/"
        },
        "id": "q-32didK8Arx",
        "outputId": "cb3d6088-4d59-4820-cbe6-54edc0438022"
      },
      "execution_count": null,
      "outputs": [
        {
          "name": "stdout",
          "output_type": "stream",
          "text": [
            "enter operator: break\n"
          ]
        }
      ]
    },
    {
      "cell_type": "code",
      "source": [
        "s = 'abc'\n",
        "for char in s:\n",
        "  print(char)"
      ],
      "metadata": {
        "colab": {
          "base_uri": "https://localhost:8080/"
        },
        "id": "NEk4W1uPx2-T",
        "outputId": "f00a7e48-929f-44b2-9a31-23e10a6b102a"
      },
      "execution_count": null,
      "outputs": [
        {
          "output_type": "stream",
          "name": "stdout",
          "text": [
            "a\n",
            "b\n",
            "c\n"
          ]
        }
      ]
    },
    {
      "cell_type": "code",
      "source": [
        "s = 'abc'\n",
        "for i in range(len(s)):\n",
        "  print(s[i])\n"
      ],
      "metadata": {
        "colab": {
          "base_uri": "https://localhost:8080/"
        },
        "id": "vNI-ewLgx37K",
        "outputId": "450482d2-2d7a-4201-e2a0-fc8edba57fab"
      },
      "execution_count": null,
      "outputs": [
        {
          "output_type": "stream",
          "name": "stdout",
          "text": [
            "a\n",
            "b\n",
            "c\n"
          ]
        }
      ]
    },
    {
      "cell_type": "code",
      "source": [
        "s1 = 'abcdefg'\n",
        "s2 = 'abdght'\n",
        "\n",
        "for index in range(len(s1)):\n",
        "  if s1[index] in s2:\n",
        "    print(s1[index])"
      ],
      "metadata": {
        "colab": {
          "base_uri": "https://localhost:8080/"
        },
        "id": "kN1_zT23x9oi",
        "outputId": "73b24b9a-6d22-41c4-c3c5-2f26ead8592b"
      },
      "execution_count": null,
      "outputs": [
        {
          "output_type": "stream",
          "name": "stdout",
          "text": [
            "a\n",
            "b\n",
            "d\n",
            "g\n"
          ]
        }
      ]
    },
    {
      "cell_type": "code",
      "source": [
        "s1 = 'abcdefg'\n",
        "s2 = 'abdght'\n",
        "\n",
        "\n",
        "for char in s1:\n",
        "  if char in s2:\n",
        "    print(char)"
      ],
      "metadata": {
        "colab": {
          "base_uri": "https://localhost:8080/"
        },
        "id": "mMCUdcv_yCIU",
        "outputId": "b626be9f-d846-44ea-fcae-ca9d26774d16"
      },
      "execution_count": null,
      "outputs": [
        {
          "output_type": "stream",
          "name": "stdout",
          "text": [
            "a\n",
            "b\n",
            "d\n",
            "g\n"
          ]
        }
      ]
    },
    {
      "cell_type": "code",
      "source": [
        "s1 = 'abcdefg'\n",
        "s2 = 'abdght'\n",
        "\n",
        "for char in s1:\n",
        "  if char in s2:\n",
        "   print(char)\n",
        "\n",
        "for i in range(len(s1)):\n",
        "  if s1[i] in s2:\n",
        "    print(s1[i])"
      ],
      "metadata": {
        "colab": {
          "base_uri": "https://localhost:8080/"
        },
        "id": "DrJqB3UcyE5M",
        "outputId": "cb3fbabe-41a1-4ef2-930f-61da588d1918"
      },
      "execution_count": null,
      "outputs": [
        {
          "output_type": "stream",
          "name": "stdout",
          "text": [
            "a\n",
            "b\n",
            "d\n",
            "g\n",
            "a\n",
            "b\n",
            "d\n",
            "g\n"
          ]
        }
      ]
    },
    {
      "cell_type": "code",
      "source": [
        "s = ' '\n",
        "\n",
        "for i in range(5):\n",
        "  s = s + 'a'\n",
        "  print(len(s)-1, s)\n"
      ],
      "metadata": {
        "colab": {
          "base_uri": "https://localhost:8080/"
        },
        "id": "bESnFZmcyJTe",
        "outputId": "dae8bfce-68e1-44df-c68a-4115135c3e13"
      },
      "execution_count": null,
      "outputs": [
        {
          "output_type": "stream",
          "name": "stdout",
          "text": [
            "1  a\n",
            "2  aa\n",
            "3  aaa\n",
            "4  aaaa\n",
            "5  aaaaa\n"
          ]
        }
      ]
    },
    {
      "cell_type": "code",
      "source": [
        "L_outer = [[0,1,2,3],[4,5,7,6]]\n",
        "l = L_outer[1]\n",
        "l[0] = 7\n",
        "L_outer[1] = l\n",
        "print(L_outer)\n",
        "print(L_outer[1][0])\n"
      ],
      "metadata": {
        "colab": {
          "base_uri": "https://localhost:8080/"
        },
        "id": "vCVBpXp7yMY0",
        "outputId": "91e6ce85-f897-42ac-8aa9-bd119f9bb9b7"
      },
      "execution_count": null,
      "outputs": [
        {
          "output_type": "stream",
          "name": "stdout",
          "text": [
            "[[0, 1, 2, 3], [7, 5, 7, 6]]\n",
            "7\n"
          ]
        }
      ]
    },
    {
      "cell_type": "code",
      "source": [
        "for element in L:\n",
        "  print(element)\n",
        "  #Can be used for any sequential element"
      ],
      "metadata": {
        "id": "a2wWIEpgyWXV"
      },
      "execution_count": null,
      "outputs": []
    },
    {
      "cell_type": "code",
      "source": [
        "grades = {\n",
        "    'alice':91,\n",
        "    'bob': 88,\n",
        "    'tracy': 93,\n",
        "    'erik': 90\n",
        "}"
      ],
      "metadata": {
        "id": "pdD1D6zYAaC8"
      },
      "execution_count": null,
      "outputs": []
    },
    {
      "cell_type": "code",
      "source": [
        "grades ['alice']= 95\n",
        "grades"
      ],
      "metadata": {
        "colab": {
          "base_uri": "https://localhost:8080/"
        },
        "id": "sCGTkSaUAwRd",
        "outputId": "fae532cd-595b-4b9c-fe55-391c42aeae66"
      },
      "execution_count": null,
      "outputs": [
        {
          "output_type": "execute_result",
          "data": {
            "text/plain": [
              "{'alice': 95, 'bob': 88, 'tracy': 93, 'erik': 90}"
            ]
          },
          "metadata": {},
          "execution_count": 6
        }
      ]
    },
    {
      "cell_type": "code",
      "source": [
        "grades = {\n",
        "    'Alice': 91,\n",
        "    'Bob': 88,\n",
        "    'Tracy': 93,\n",
        "    'Erik': 90\n",
        "}\n",
        "\n",
        "grades['Bob']\n",
        "\n",
        "grades['Michael'] = 95\n",
        "\n",
        "grades['Alice'] = 95 #Will change the value for Alice\n",
        "\n",
        "del grades['Alice'] #Will remove Alice key from dictionary\n",
        "\n",
        "del(grades['Bob']) #Another way to write\n",
        "\n",
        "grades.keys() #Returns a list of all the keys\n",
        "\n",
        "grades.values() #Returns a list of values associated with keys\n",
        "\n",
        "grades.items() #Returns both keys and values\n",
        "\n",
        "for key in grades.keys():\n",
        "  print(key)"
      ],
      "metadata": {
        "id": "L51MBv_Oyj_X",
        "outputId": "cdb409af-d3d0-43c7-e433-44dc122d5ebe",
        "colab": {
          "base_uri": "https://localhost:8080/"
        }
      },
      "execution_count": null,
      "outputs": [
        {
          "output_type": "stream",
          "name": "stdout",
          "text": [
            "Tracy\n",
            "Erik\n",
            "Michael\n"
          ]
        }
      ]
    }
  ]
}